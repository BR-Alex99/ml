{
 "cells": [
  {
   "cell_type": "code",
   "execution_count": 1,
   "metadata": {
    "scrolled": true
   },
   "outputs": [],
   "source": [
    "import csv\n",
    "import numpy as np\n",
    "import matplotlib.pyplot as plt"
   ]
  },
  {
   "cell_type": "code",
   "execution_count": 2,
   "metadata": {},
   "outputs": [],
   "source": [
    "Full_data=[] \n",
    "with open('responses.csv') as File:\n",
    "    reader = csv.reader(File, quoting=csv.QUOTE_MINIMAL)\n",
    "    for row in reader:\n",
    "        Full_data.append(row)"
   ]
  },
  {
   "cell_type": "markdown",
   "metadata": {
    "scrolled": true
   },
   "source": [
    "#Возьмём для аналлиза данные связанные с фобиями\n",
    "\n",
    "#отображать будем в гендер "
   ]
  },
  {
   "cell_type": "code",
   "execution_count": 3,
   "metadata": {
    "scrolled": true
   },
   "outputs": [],
   "source": [
    "#создадим лист имён а так же матрицу ответов, в случае если ответ не заполнен ставим -1\n",
    "name=Full_data[0][63:73].copy()\n",
    "name_y=Full_data[0][144]\n",
    "Data=[]\n",
    "Data_y=[]\n",
    "for i in range (len(Full_data)-1):\n",
    "    Data_y.append(Full_data[i+1][144])\n",
    "    Data.append(Full_data[i+1][63:73].copy())\n",
    "    for j in range (len(Data[i])):\n",
    "        try:\n",
    "            Data[i][j]=float(Data[i][j])\n",
    "        except :\n",
    "            Data[i][j]=100\n",
    "    if Data_y[i]=='female':\n",
    "        Data_y[i]=-1\n",
    "    elif Data_y[i]=='male':\n",
    "        Data_y[i]=1\n",
    "    else :\n",
    "        Data_y[i]=100\n",
    "Data=np.array(Data)\n",
    "Data_y=np.array(Data_y)"
   ]
  },
  {
   "cell_type": "code",
   "execution_count": 4,
   "metadata": {
    "scrolled": true
   },
   "outputs": [
    {
     "data": {
      "text/plain": [
       "(1010, 10)"
      ]
     },
     "execution_count": 4,
     "metadata": {},
     "output_type": "execute_result"
    }
   ],
   "source": [
    "row,column=Data.shape\n",
    "row,column"
   ]
  },
  {
   "cell_type": "code",
   "execution_count": 5,
   "metadata": {},
   "outputs": [
    {
     "name": "stdout",
     "output_type": "stream",
     "text": [
      "80\n"
     ]
    }
   ],
   "source": [
    "k=0\n",
    "index_error=[]\n",
    "for i in range(row):\n",
    "    for j in range (column):\n",
    "        if (Data[i][j]==100):       \n",
    "            k+=1\n",
    "            index_error.append(i)\n",
    "            break\n",
    "        if (Data_y[i]==100):\n",
    "            k+=1\n",
    "            index_error.append(i)\n",
    "print(k)\n",
    "\"\"\"\n",
    "Таким образом мы узнаём что  80 строки испорчены. и удаляем их из выборки \n",
    "\"\"\"\n",
    "index_error=index_error[::-1]\n",
    "for i in index_error:\n",
    "    Data = np.delete(Data, (i), axis=0) \n",
    "    Data_y = np.delete(Data_y, (i), axis=0) "
   ]
  },
  {
   "cell_type": "code",
   "execution_count": 6,
   "metadata": {},
   "outputs": [],
   "source": [
    "#Нормируем данные\n",
    "row,column=Data.shape\n",
    "for i in range(row):\n",
    "    for j in range (column):\n",
    "        Data[i][j]=Data[i][j]/5-0.6"
   ]
  },
  {
   "cell_type": "code",
   "execution_count": 7,
   "metadata": {},
   "outputs": [
    {
     "data": {
      "text/plain": [
       "(930, 10)"
      ]
     },
     "execution_count": 7,
     "metadata": {},
     "output_type": "execute_result"
    }
   ],
   "source": [
    "row,column=Data.shape\n",
    "row,column"
   ]
  },
  {
   "cell_type": "code",
   "execution_count": 8,
   "metadata": {},
   "outputs": [],
   "source": [
    "\"\"\"\n",
    "разделим данные на тренировочные и тестовые\n",
    "\"\"\"\n",
    "Data_test=Data[800:900]\n",
    "Data_y_test=Data_y[800:900]\n",
    "Data=Data[0:800]\n",
    "Data_y=Data_y[0:800]"
   ]
  },
  {
   "cell_type": "code",
   "execution_count": 9,
   "metadata": {},
   "outputs": [
    {
     "data": {
      "text/plain": [
       "(800, 10)"
      ]
     },
     "execution_count": 9,
     "metadata": {},
     "output_type": "execute_result"
    }
   ],
   "source": [
    "row,column=Data.shape\n",
    "row,column"
   ]
  },
  {
   "cell_type": "code",
   "execution_count": 10,
   "metadata": {},
   "outputs": [],
   "source": [
    "\"\"\"\n",
    "Функция для отрисовки ящиков с усиками\n",
    "\"\"\"\n",
    "def boxplot(x_data, y_data, base_color=\"#539caf\", median_color=\"#297083\", x_label=\"\", y_label=\"\", title=\"\"):\n",
    "    _, ax = plt.subplots()#Непонятно!!!!!\n",
    "\n",
    "    # Draw boxplots, specifying desired style\n",
    "    ax.boxplot(y_data\n",
    "               # patch_artist must be True to control box fill\n",
    "               , patch_artist = True\n",
    "               # Properties of median line\n",
    "               , medianprops = {'color': median_color}\n",
    "               # Properties of box\n",
    "               , boxprops = {'color': base_color, 'facecolor': base_color}\n",
    "               # Properties of whiskers\n",
    "               , whiskerprops = {'color': base_color}\n",
    "               # Properties of whisker caps\n",
    "               , capprops = {'color': base_color})\n",
    "\n",
    "    # By default, the tick label starts at 1 and increments by 1 for\n",
    "    # each box drawn. This sets the labels to the ones we want\n",
    "    ax.set_xticklabels(x_data)\n",
    "    ax.set_ylabel(y_label)\n",
    "    ax.set_xlabel(x_label)\n",
    "    ax.set_title(title)"
   ]
  },
  {
   "cell_type": "code",
   "execution_count": 11,
   "metadata": {},
   "outputs": [
    {
     "data": {
      "image/png": "[encoded data removed]",
      "text/plain": [
       "<Figure size 432x288 with 1 Axes>"
      ]
     },
     "metadata": {
      "needs_background": "light"
     },
     "output_type": "display_data"
    },
    {
     "data": {
      "image/png": "[encoded data removed]",
      "text/plain": [
       "<Figure size 432x288 with 1 Axes>"
      ]
     },
     "metadata": {
      "needs_background": "light"
     },
     "output_type": "display_data"
    },
    {
     "data": {
      "image/png": "[encoded data removed]",
      "text/plain": [
       "<Figure size 432x288 with 1 Axes>"
      ]
     },
     "metadata": {
      "needs_background": "light"
     },
     "output_type": "display_data"
    },
    {
     "data": {
      "image/png": "[encoded data removed]",
      "text/plain": [
       "<Figure size 432x288 with 1 Axes>"
      ]
     },
     "metadata": {
      "needs_background": "light"
     },
     "output_type": "display_data"
    },
    {
     "data": {
      "image/png": "[encoded data removed]",
      "text/plain": [
       "<Figure size 432x288 with 1 Axes>"
      ]
     },
     "metadata": {
      "needs_background": "light"
     },
     "output_type": "display_data"
    }
   ],
   "source": [
    "for i in range(0,5):\n",
    "    boxplot(name[2*i:2*i+2],Data[:,2*i:2*i+2])\n"
   ]
  },
  {
   "cell_type": "code",
   "execution_count": 12,
   "metadata": {
    "scrolled": true
   },
   "outputs": [
    {
     "data": {
      "image/png": "[encoded data removed]",
      "text/plain": [
       "<Figure size 432x288 with 1 Axes>"
      ]
     },
     "metadata": {
      "needs_background": "light"
     },
     "output_type": "display_data"
    }
   ],
   "source": [
    "boxplot(name_y,Data_y)\n"
   ]
  },
  {
   "cell_type": "code",
   "execution_count": 13,
   "metadata": {},
   "outputs": [],
   "source": [
    "from sklearn.tree import DecisionTreeClassifier\n",
    "from sklearn.neighbors import KNeighborsClassifier\n",
    "from sklearn.neural_network import MLPClassifier"
   ]
  },
  {
   "cell_type": "code",
   "execution_count": 14,
   "metadata": {
    "scrolled": true
   },
   "outputs": [
    {
     "name": "stdout",
     "output_type": "stream",
     "text": [
      "Классификация с помощью дерева\n",
      "Правильность на обучающем наборе: 0.853\n",
      "Правильность на тестовом наборе: 0.630\n"
     ]
    }
   ],
   "source": [
    "tree = DecisionTreeClassifier(max_depth=8, random_state=0)\n",
    "tree.fit(Data, Data_y)\n",
    "print(\"Классификация с помощью дерева\")\n",
    "print(\"Правильность на обучающем наборе: {:.3f}\".format(tree.score(Data, Data_y)))\n",
    "print(\"Правильность на тестовом наборе: {:.3f}\".format(tree.score(Data_test, Data_y_test)))"
   ]
  },
  {
   "cell_type": "code",
   "execution_count": 15,
   "metadata": {},
   "outputs": [
    {
     "name": "stdout",
     "output_type": "stream",
     "text": [
      "Классификация с помощью алгоритма k ближайших соседей\n",
      "Правильность на обучающем наборе: 0.73\n",
      "Правильность на тестовом наборе: 0.68\n"
     ]
    }
   ],
   "source": [
    "clf = KNeighborsClassifier(n_neighbors=10)\n",
    "clf.fit(Data, Data_y)\n",
    "print(\"Классификация с помощью алгоритма k ближайших соседей\")\n",
    "print(\"Правильность на обучающем наборе: {:.2f}\".format(clf.score(Data, Data_y)))\n",
    "print(\"Правильность на тестовом наборе: {:.2f}\".format(clf.score(Data_test, Data_y_test)))"
   ]
  },
  {
   "cell_type": "code",
   "execution_count": 16,
   "metadata": {
    "scrolled": true
   },
   "outputs": [
    {
     "name": "stdout",
     "output_type": "stream",
     "text": [
      "Классификация с помощью нейронной сети\n",
      "Правильность на обучающем наборе: 0.88\n",
      "Правильность на тестовом наборе: 0.71\n"
     ]
    }
   ],
   "source": [
    "mlp = MLPClassifier(solver='lbfgs', random_state=0,hidden_layer_sizes=[20],max_iter=10000)\n",
    "mlp.fit(Data, Data_y)\n",
    "print(\"Классификация с помощью нейронной сети\")\n",
    "print(\"Правильность на обучающем наборе: {:.2f}\".format(mlp.score(Data, Data_y)))\n",
    "print(\"Правильность на тестовом наборе: {:.2f}\".format(mlp.score(Data_test, Data_y_test)))"
   ]
  },
  {
   "cell_type": "code",
   "execution_count": null,
   "metadata": {},
   "outputs": [],
   "source": []
  }
 ],
 "metadata": {
  "kernelspec": {
   "display_name": "Python 3",
   "language": "python",
   "name": "python3"
  },
  "language_info": {
   "codemirror_mode": {
    "name": "ipython",
    "version": 3
   },
   "file_extension": ".py",
   "mimetype": "text/x-python",
   "name": "python",
   "nbconvert_exporter": "python",
   "pygments_lexer": "ipython3",
   "version": "3.7.6"
  }
 },
 "nbformat": 4,
 "nbformat_minor": 2
}
