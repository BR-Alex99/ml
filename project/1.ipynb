{
 "cells": [
  {
   "cell_type": "markdown",
   "id": "correct-library",
   "metadata": {},
   "source": [
    "# Работа по симуляции правила Гамильтона"
   ]
  },
  {
   "cell_type": "code",
   "execution_count": 13,
   "id": "occupational-elephant",
   "metadata": {},
   "outputs": [],
   "source": [
    "##Библиотеки\n",
    "import random\n",
    "import numpy as np\n",
    "import matplotlib.pyplot as plt"
   ]
  },
  {
   "cell_type": "raw",
   "id": "radio-chocolate",
   "metadata": {},
   "source": [
    "описание системы:\n",
    " В рамках данной симульяции планиуться иследовать, даёт ли альтруистическое поведение преимущество в конкурентрой борьбе\n",
    " Более приспособленым являеться организм гены которого преобдадают в общей популяции \n",
    "\n",
    " в системе существует 4 сущности\n",
    " - организм\n",
    " - хишьник \n",
    " - кормушка\n",
    " - дом\n",
    " \n",
    " жизненый цикл организма:\n",
    " 1 - вышел из дома в составе семьи (семьёй называеться мноржество особей - детей одной пары родителей)\n",
    " 2 - покормился у кормушки\n",
    " 3 - все особи занимают свободные дома случайным образом\n",
    "     3.1 - особи которым не достался дом умирают\n",
    "     3.2 - если в доме оказалась только одна особь, то она умирает не дав потомство \n",
    "     таким образом количество особей регулируеться количеством домов\n",
    " 4 - В доме каждая пара размнодаеться, при этом каждый родитель передаёт свой ген потомству с равной вероятностью, после чего оба родителя умирают и цикл повторяется.  \n",
    " \n",
    " при этом в одной из n кормушек сидит хищьник.\n",
    " когда семья приходит к кормушке, одна из особей его замечает  и может\n",
    "   - пожеотвовать собой, предупредив свою семью, тогда семься выживает, а особь погибает с вероятностью > 90 %\n",
    "   - убежать, в этом случае семья целиком погибает, а особь которая заметила хищьника спасается \n",
    "   "
   ]
  },
  {
   "cell_type": "code",
   "execution_count": 34,
   "id": "hawaiian-speaking",
   "metadata": {},
   "outputs": [],
   "source": [
    "## константы настройки \n",
    "steps = 600 ## количество шагов в симуляции\n",
    "hom_c = 200 ##количество домов\n",
    "hun_c = 1 ##как часто встречаеться хищник (каждые h_c кормушек)\n",
    "chi_c = 3 ## количество детей у одной пары\n",
    "d_a = 0.95 ##вероятность сметри особи поднявшей тревогу\n",
    "a_a1 = 1  ##вероятность сметри группы, если  агресивный 1\n",
    "a_a2 = 0.5##вероятность сметри группы, если  агресивных 2\n",
    "a_a3 = 0.0 ##вероятность сметри группы, если  агресивный 3\n",
    "gen_t_hum= 'humanist'     #кодирует ген гуманизма \n",
    "gen_t_ego= 'egoist'       #кодирует ген эгоизма \n",
    "gen_t_agr= 'aggressive'   #кодирует ген агрессии\n",
    "repeat=300 ##количество повторов эксперемента"
   ]
  },
  {
   "cell_type": "code",
   "execution_count": 35,
   "id": "acceptable-sharing",
   "metadata": {},
   "outputs": [],
   "source": [
    "## создание класса Особь\n",
    "class Person(object):\n",
    "    __slots__ = [\"gen_t\"]\n",
    "    def __init__(self, gen):\n",
    "        self.gen_t = gen\n",
    "\n",
    "    def get_gen (self):\n",
    "        return(self.gen_t)"
   ]
  },
  {
   "cell_type": "code",
   "execution_count": 36,
   "id": "enclosed-regression",
   "metadata": {},
   "outputs": [],
   "source": [
    "## создание статического класса, который отвечает за все процессы жизнедеятельности\n",
    "class life(object):\n",
    "    \n",
    "    ##заполняет дома особями, перед первым днём\n",
    "    @staticmethod\n",
    "    def first_day(hom_c,hum_c,ego_c,agr_c):\n",
    "        if hum_c+ego_c+agr_c>hom_c:\n",
    "            print('ERROR: семей больше чем домов')\n",
    "        home_list= [None for i in range(hom_c)]  ## дома будем симулировать с поvощью двумерного массива \n",
    "        for i in range(hum_c):\n",
    "            home_list[i]=[ Person(gen_t_hum) for i in range(chi_c)]\n",
    "        for i in range(ego_c):\n",
    "            home_list[hum_c+i]=[ Person(gen_t_ego) for i in range(chi_c)]\n",
    "        for i in range(agr_c):\n",
    "            home_list[hum_c+ego_c+i]=[ Person(gen_t_agr) for i in range(chi_c)]\n",
    "        return  home_list\n",
    "    ##отвечает за размножение пар особей в домах\n",
    "    @staticmethod\n",
    "    def reproduction (home_list):\n",
    "        for j in range(len(home_list)) :\n",
    "            if home_list[j]!=None:\n",
    "                if len(home_list[j])==1:\n",
    "                    home=None\n",
    "                if len(home_list[j])>2: \n",
    "                    print('ERROR: в доме больше чем пара в момент размножения')\n",
    "                if len(home_list[j])==2:\n",
    "                    childs=[]\n",
    "                    for i in range (chi_c):\n",
    "                        par_gen=random.randint(0,1) ##случайным образом определяем родителя ген которго наследуеться\n",
    "                        gen=home_list[j][par_gen].get_gen()\n",
    "                        child=Person(gen)\n",
    "                        childs.append(child)\n",
    "                    home_list[j]=childs\n",
    "        return home_list\n",
    "    \n",
    "    ##возвращает статистику по количеству типов особей в домах\n",
    "    @staticmethod\n",
    "    def get_stat (home_list):\n",
    "        count_ego=0\n",
    "        count_hum=0\n",
    "        count_agr=0\n",
    "        for home in home_list:\n",
    "            if home!=None:\n",
    "                for person in home:\n",
    "                    if person.get_gen()==gen_t_hum:\n",
    "                        count_hum+=1\n",
    "                    elif person.get_gen()==gen_t_ego:\n",
    "                        count_ego+=1\n",
    "                    elif person.get_gen()==gen_t_agr:\n",
    "                        count_agr+=1\n",
    "        return (count_hum, count_ego, count_agr)\n",
    "   \n",
    "    ##описание процедуры eating на вход, получаем список домов. на выходе рандомизированый список\n",
    "    ##всех выживших в процессе кормления особей.\n",
    "    ## в процессе реализации воспользуемся тем, что к кормушке подходят особи из одного дома\n",
    "    @staticmethod\n",
    "    def eating (home_list):\n",
    "        person_list=[]\n",
    "        help_count=0    ##считае сколько семей прокормилось. с помощью этого коэфицента,\n",
    "        ##будем определять есть ли в текущей кормушке хищьник\n",
    "        \n",
    "        for home in home_list:\n",
    "            if home!=None:\n",
    "                help_count+=1\n",
    "                if help_count%hun_c!=0:\n",
    "                    for per in  home:\n",
    "                        person_list.append(per)\n",
    "                else:\n",
    "                    ##в силу слчучайного распределения порядка детей, можно без ограничения общности\n",
    "                    ## принимать 0 особь за ту, уоторая увидит хищьника\n",
    "                    if home[0].get_gen()==gen_t_ego: ##симуляция поведения эгоиста\n",
    "                        person_list.append(home[0])\n",
    "                    if home[0].get_gen()==gen_t_hum:\n",
    "                        for i in range(len(home)):\n",
    "                            if i==0:\n",
    "                                if random.random()>d_a: ## определяем, выживет ли альтруист поднявший тревогу\n",
    "                                    person_list.append(home[0])\n",
    "                            else:\n",
    "                                person_list.append(home[i])\n",
    "                    if home[0].get_gen()==gen_t_agr:\n",
    "                        coun_agr=0\n",
    "                        for i in range(len(home)):\n",
    "                            if home[i].get_gen()==gen_t_agr:\n",
    "                                coun_agr+=1\n",
    "                        if coun_agr>=3 and  random.random()>a_a3:    \n",
    "                            for i in range(len(home)):\n",
    "                                person_list.append(home[i])\n",
    "                        if coun_agr==2 and  random.random()>a_a2:\n",
    "                            for i in range(len(home)):\n",
    "                                person_list.append(home[i])\n",
    "                        if coun_agr==1 and  random.random()>a_a1:\n",
    "                            for i in range(len(home)):\n",
    "                                person_list.append(home[i])\n",
    "                            \n",
    "                            \n",
    "        random.shuffle(person_list)       ##перемешиваем особей случайным образом  \n",
    "        return(person_list)\n",
    "    ##применяеться после eating для очтстки добов после кормёжки:\n",
    "    @staticmethod\n",
    "    def clear_home_list (home_list):\n",
    "        return ([None for i in range(len(home_list))])\n",
    "    ##функция отвечает за расселение пар особей по домам\n",
    "    @staticmethod\n",
    "    def new_pair (home_list,person_list):\n",
    "        for i in range(len(person_list)//2):\n",
    "            if i+1>len(home_list):\n",
    "                break\n",
    "            pair=[person_list[2*i],person_list[2*i+1]]\n",
    "            home_list[i]=pair\n",
    "        return(home_list)"
   ]
  },
  {
   "cell_type": "code",
   "execution_count": 39,
   "id": "artificial-authorization",
   "metadata": {},
   "outputs": [],
   "source": [
    "rezylt=[]\n",
    "#запуск симуляции\n",
    "home_list=life.first_day(hom_c,0,10,0)\n",
    "for i in range (steps):\n",
    "    person_list=life.eating(home_list)\n",
    "    home_list=life.clear_home_list(home_list)\n",
    "    home_list=life.new_pair(home_list,person_list)\n",
    "    home_list=life.reproduction(home_list)\n",
    "    rezylt.append(life.get_stat(home_list))"
   ]
  },
  {
   "cell_type": "code",
   "execution_count": 40,
   "id": "professional-surfing",
   "metadata": {
    "scrolled": false
   },
   "outputs": [
    {
     "data": {
      "image/png": "[encoded data removed]",
      "text/plain": [
       "<Figure size 720x360 with 1 Axes>"
      ]
     },
     "metadata": {
      "needs_background": "light"
     },
     "output_type": "display_data"
    }
   ],
   "source": [
    "\n",
    " \n",
    "y=([i for i in rezylt])\n",
    "\n",
    "y=np.transpose(y)\n",
    "x = np.arange(steps)\n",
    "\n",
    " \n",
    "fig, ax = plt.subplots(figsize=(10, 5))\n",
    "ax.stackplot(x, y, labels=['Гуманист', 'Эгоист', 'Агрессор'])\n",
    "\n",
    "\n",
    "ax.set_title('Усрешность гена')\n",
    "\n",
    "\n",
    "ax.legend(loc='lower right')\n",
    "ax.set_ylabel('Total debt')\n",
    "ax.set_xlim(xmin=x[0], xmax=x[-1])\n",
    "fig.tight_layout()\n",
    " \n",
    "plt.show()"
   ]
  },
  {
   "cell_type": "code",
   "execution_count": 41,
   "id": "impressive-cache",
   "metadata": {},
   "outputs": [],
   "source": [
    "rezylt_list=[]\n",
    "for j in range (repeat):\n",
    "    rezylt=[]\n",
    "    #запуск симуляции\n",
    "    home_list=life.first_day(hom_c,5,5,5)\n",
    "    for i in range (steps):\n",
    "        person_list=life.eating(home_list)\n",
    "        home_list=life.clear_home_list(home_list)\n",
    "        home_list=life.new_pair(home_list,person_list)\n",
    "        home_list=life.reproduction(home_list)\n",
    "        rezylt.append(life.get_stat(home_list))\n",
    "    rezylt_list.append(rezylt)"
   ]
  },
  {
   "cell_type": "code",
   "execution_count": null,
   "id": "compressed-particular",
   "metadata": {},
   "outputs": [],
   "source": [
    "a=len(rezylt_list[0])\n",
    "b=len(rezylt_list[0][0])\n",
    "aver_result=np.zeros((a,b))\n",
    "for i in range (a):\n",
    "    for j in range (b):\n",
    "        aver_result[i][j]=sum([rezylt_list[z][i][j] for z in range(len(rezylt_list))])/repeat"
   ]
  },
  {
   "cell_type": "code",
   "execution_count": null,
   "id": "strong-arrest",
   "metadata": {},
   "outputs": [],
   "source": [
    "y=([i for i in aver_result])\n",
    "\n",
    "y=np.transpose(y)\n",
    "x = np.arange(steps)\n",
    "\n",
    " \n",
    "fig, ax = plt.subplots(figsize=(10, 5))\n",
    "ax.stackplot(x, y, labels=['Гуманист', 'Эгоист', 'Агрессор'])\n",
    "\n",
    "\n",
    "\n",
    "\n",
    "ax.set_title('Усрешность гена')\n",
    "\n",
    "\n",
    "ax.legend(loc='lower right')\n",
    "ax.set_ylabel('Total debt')\n",
    "ax.set_xlim(xmin=x[0], xmax=x[-1])\n",
    "fig.tight_layout()\n",
    " \n",
    "plt.show()"
   ]
  },
  {
   "cell_type": "code",
   "execution_count": null,
   "id": "formed-hayes",
   "metadata": {},
   "outputs": [],
   "source": [
    "home_list=life.first_day(10,4,4)"
   ]
  },
  {
   "cell_type": "code",
   "execution_count": null,
   "id": "gorgeous-stock",
   "metadata": {},
   "outputs": [],
   "source": []
  },
  {
   "cell_type": "code",
   "execution_count": null,
   "id": "crucial-hearts",
   "metadata": {},
   "outputs": [],
   "source": []
  },
  {
   "cell_type": "code",
   "execution_count": null,
   "id": "blank-devices",
   "metadata": {},
   "outputs": [],
   "source": [
    "home_list[3][1]=home_list[5][0]"
   ]
  },
  {
   "cell_type": "code",
   "execution_count": null,
   "id": "infectious-latitude",
   "metadata": {
    "scrolled": false
   },
   "outputs": [],
   "source": [
    "home_list=life.reproduction(home_list)"
   ]
  },
  {
   "cell_type": "code",
   "execution_count": null,
   "id": "green-commonwealth",
   "metadata": {},
   "outputs": [],
   "source": [
    "home_list=life.clear_home_list(home_list)"
   ]
  },
  {
   "cell_type": "code",
   "execution_count": null,
   "id": "hazardous-agency",
   "metadata": {
    "scrolled": true
   },
   "outputs": [],
   "source": [
    "for home in home_list:\n",
    "    print(home[0].get_gen(),home[1].get_gen(),home[2].get_gen() )"
   ]
  },
  {
   "cell_type": "code",
   "execution_count": null,
   "id": "equipped-youth",
   "metadata": {
    "scrolled": false
   },
   "outputs": [],
   "source": [
    "z=life.eating(home_list)\n"
   ]
  },
  {
   "cell_type": "code",
   "execution_count": null,
   "id": "separate-rotation",
   "metadata": {
    "scrolled": false
   },
   "outputs": [],
   "source": [
    "for i in z:\n",
    "    print(i.get_gen())"
   ]
  },
  {
   "cell_type": "code",
   "execution_count": null,
   "id": "acceptable-receptor",
   "metadata": {
    "scrolled": true
   },
   "outputs": [],
   "source": [
    "home_list"
   ]
  },
  {
   "cell_type": "code",
   "execution_count": null,
   "id": "explicit-rubber",
   "metadata": {},
   "outputs": [],
   "source": [
    "home_list=life.first_day(10,4,4)"
   ]
  },
  {
   "cell_type": "code",
   "execution_count": null,
   "id": "adolescent-velvet",
   "metadata": {},
   "outputs": [],
   "source": [
    "person_list=life.eating(home_list)\n",
    "home_list=life.clear_home_list(home_list)"
   ]
  },
  {
   "cell_type": "code",
   "execution_count": null,
   "id": "oriental-billion",
   "metadata": {},
   "outputs": [],
   "source": [
    "home_list=life.new_pair(home_list,person_list)"
   ]
  },
  {
   "cell_type": "code",
   "execution_count": null,
   "id": "varied-aspect",
   "metadata": {},
   "outputs": [],
   "source": [
    "home_list=life.reproduction(home_list)"
   ]
  },
  {
   "cell_type": "code",
   "execution_count": null,
   "id": "adolescent-correspondence",
   "metadata": {},
   "outputs": [],
   "source": [
    "life.get_stat(home_list)"
   ]
  },
  {
   "cell_type": "code",
   "execution_count": null,
   "id": "dominican-subcommittee",
   "metadata": {},
   "outputs": [],
   "source": []
  }
 ],
 "metadata": {
  "kernelspec": {
   "display_name": "Python 3",
   "language": "python",
   "name": "python3"
  },
  "language_info": {
   "codemirror_mode": {
    "name": "ipython",
    "version": 3
   },
   "file_extension": ".py",
   "mimetype": "text/x-python",
   "name": "python",
   "nbconvert_exporter": "python",
   "pygments_lexer": "ipython3",
   "version": "3.8.5"
  }
 },
 "nbformat": 4,
 "nbformat_minor": 5
}
